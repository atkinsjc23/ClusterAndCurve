{
 "cells": [
  {
   "cell_type": "code",
   "execution_count": 17,
   "metadata": {
    "collapsed": true
   },
   "outputs": [],
   "source": [
    "import pandas as pd\n",
    "import numpy as np\n",
    "import matplotlib.pyplot as plt\n",
    "%matplotlib inline"
   ]
  },
  {
   "cell_type": "markdown",
   "metadata": {},
   "source": [
    "We read in and clean the data by dropping any row that doesn't have scores for the columns"
   ]
  },
  {
   "cell_type": "code",
   "execution_count": 18,
   "metadata": {},
   "outputs": [
    {
     "data": {
      "text/html": [
       "<div>\n",
       "<style>\n",
       "    .dataframe thead tr:only-child th {\n",
       "        text-align: right;\n",
       "    }\n",
       "\n",
       "    .dataframe thead th {\n",
       "        text-align: left;\n",
       "    }\n",
       "\n",
       "    .dataframe tbody tr th {\n",
       "        vertical-align: top;\n",
       "    }\n",
       "</style>\n",
       "<table border=\"1\" class=\"dataframe\">\n",
       "  <thead>\n",
       "    <tr style=\"text-align: right;\">\n",
       "      <th></th>\n",
       "      <th>First Name</th>\n",
       "      <th>WA</th>\n",
       "      <th>Q1</th>\n",
       "      <th>Q2</th>\n",
       "      <th>Q3</th>\n",
       "      <th>Q4</th>\n",
       "      <th>Q5</th>\n",
       "      <th>Q6</th>\n",
       "      <th>Q7</th>\n",
       "      <th>Q8</th>\n",
       "    </tr>\n",
       "  </thead>\n",
       "  <tbody>\n",
       "    <tr>\n",
       "      <th>0</th>\n",
       "      <td>CAROLINE</td>\n",
       "      <td>660.0</td>\n",
       "      <td>5.0</td>\n",
       "      <td>5.0</td>\n",
       "      <td>20.0</td>\n",
       "      <td>0.0</td>\n",
       "      <td>0.0</td>\n",
       "      <td>5.0</td>\n",
       "      <td>5.0</td>\n",
       "      <td>10.0</td>\n",
       "    </tr>\n",
       "    <tr>\n",
       "      <th>1</th>\n",
       "      <td>HARRISON</td>\n",
       "      <td>604.0</td>\n",
       "      <td>5.0</td>\n",
       "      <td>3.0</td>\n",
       "      <td>20.0</td>\n",
       "      <td>1.0</td>\n",
       "      <td>0.0</td>\n",
       "      <td>5.0</td>\n",
       "      <td>5.0</td>\n",
       "      <td>10.0</td>\n",
       "    </tr>\n",
       "    <tr>\n",
       "      <th>2</th>\n",
       "      <td>KAITLYN</td>\n",
       "      <td>540.0</td>\n",
       "      <td>5.0</td>\n",
       "      <td>5.0</td>\n",
       "      <td>5.0</td>\n",
       "      <td>1.0</td>\n",
       "      <td>4.0</td>\n",
       "      <td>1.0</td>\n",
       "      <td>1.0</td>\n",
       "      <td>20.0</td>\n",
       "    </tr>\n",
       "    <tr>\n",
       "      <th>3</th>\n",
       "      <td>COURTNEY</td>\n",
       "      <td>670.0</td>\n",
       "      <td>5.0</td>\n",
       "      <td>1.0</td>\n",
       "      <td>5.0</td>\n",
       "      <td>3.0</td>\n",
       "      <td>5.0</td>\n",
       "      <td>5.0</td>\n",
       "      <td>3.0</td>\n",
       "      <td>10.0</td>\n",
       "    </tr>\n",
       "    <tr>\n",
       "      <th>4</th>\n",
       "      <td>DELANEY</td>\n",
       "      <td>202.0</td>\n",
       "      <td>5.0</td>\n",
       "      <td>5.0</td>\n",
       "      <td>4.0</td>\n",
       "      <td>0.0</td>\n",
       "      <td>4.0</td>\n",
       "      <td>5.0</td>\n",
       "      <td>3.0</td>\n",
       "      <td>1.0</td>\n",
       "    </tr>\n",
       "    <tr>\n",
       "      <th>5</th>\n",
       "      <td>MICHAEL</td>\n",
       "      <td>554.0</td>\n",
       "      <td>5.0</td>\n",
       "      <td>5.0</td>\n",
       "      <td>20.0</td>\n",
       "      <td>0.0</td>\n",
       "      <td>6.0</td>\n",
       "      <td>5.0</td>\n",
       "      <td>3.0</td>\n",
       "      <td>10.0</td>\n",
       "    </tr>\n",
       "  </tbody>\n",
       "</table>\n",
       "</div>"
      ],
      "text/plain": [
       "  First Name     WA   Q1   Q2    Q3   Q4   Q5   Q6   Q7    Q8\n",
       "0   CAROLINE  660.0  5.0  5.0  20.0  0.0  0.0  5.0  5.0  10.0\n",
       "1   HARRISON  604.0  5.0  3.0  20.0  1.0  0.0  5.0  5.0  10.0\n",
       "2    KAITLYN  540.0  5.0  5.0   5.0  1.0  4.0  1.0  1.0  20.0\n",
       "3   COURTNEY  670.0  5.0  1.0   5.0  3.0  5.0  5.0  3.0  10.0\n",
       "4    DELANEY  202.0  5.0  5.0   4.0  0.0  4.0  5.0  3.0   1.0\n",
       "5    MICHAEL  554.0  5.0  5.0  20.0  0.0  6.0  5.0  3.0  10.0"
      ]
     },
     "execution_count": 18,
     "metadata": {},
     "output_type": "execute_result"
    }
   ],
   "source": [
    "df = pd.read_csv('grades.csv')\n",
    "df = df.dropna()\n",
    "df.head(6)"
   ]
  },
  {
   "cell_type": "markdown",
   "metadata": {},
   "source": [
    "We can see the data's first column is called \"First Name\". The reamining columns have scores that account for the overall score of the student. We sum those scores and create a new column called 'RawAssignmentScore.' Then plot a histogram."
   ]
  },
  {
   "cell_type": "code",
   "execution_count": 19,
   "metadata": {},
   "outputs": [
    {
     "data": {
      "text/plain": [
       "<matplotlib.axes._subplots.AxesSubplot at 0x110545940>"
      ]
     },
     "execution_count": 19,
     "metadata": {},
     "output_type": "execute_result"
    },
    {
     "data": {
      "image/png": "[encoded data removed]",
      "text/plain": [
       "<matplotlib.figure.Figure at 0x118b36eb8>"
      ]
     },
     "metadata": {},
     "output_type": "display_data"
    }
   ],
   "source": [
    "assignment_list=['WA','Q1','Q2','Q3','Q4','Q5','Q6','Q7','Q8']\n",
    "df['RawAssignmentScore']=df[assignment_list].sum(axis=1)\n",
    "df['RawAssignmentScore'].hist(bins=50)"
   ]
  },
  {
   "cell_type": "markdown",
   "metadata": {},
   "source": [
    "From the histogram we can get rough estimates of how we should cluster students. Roughly, students with 750 or more should be clustered, 650-750 should be clustered and so on. Below we define a function to cluster students."
   ]
  },
  {
   "cell_type": "code",
   "execution_count": 27,
   "metadata": {
    "collapsed": true
   },
   "outputs": [],
   "source": [
    "def calcGrade(D,L,col1,g,tol):\n",
    "    \n",
    "    #Inputs:\n",
    "        #D is any dataframe\n",
    "        #g is a list. The len(g) is equal to the number of clusters we want\n",
    "        #L is a list of integer entries. The len(L)=len(g) and sum(L)=D.shape[0]\n",
    "        #tol is a positive real value. It stands for tolerance, and is used to guarantee that the highest score\n",
    "            #in one cluster is at least distance tol away from the lowest score in a higher cluster\n",
    "\n",
    "    #Outputs:\n",
    "        #D the dataset D with new column 'AssignmentLetter.' \n",
    "        #tl is a list of positive values with len(tl)=len(g)-1. The ith value of tl is equal to the difference of\n",
    "        #the minimum score of the ith cluster and the maximum score of the (i+1)th cluster\n",
    "        #c is a list of values with len(c)=len(g). It records the minimum score in the first len(g)-1 clusters.\n",
    "        \n",
    "    for i in range (1,len(lf)):\n",
    "        lf[i]+=lf[i-1]\n",
    "    D=D.sort_values(col1,ascending=False)\n",
    "    count=0\n",
    "    index=0\n",
    "    Q=[]\n",
    "    tl=[]\n",
    "    c=[]\n",
    "    for i in range (0,D.shape[0]):\n",
    "        count+=1\n",
    "        if count>L[index]:\n",
    "            if (D[col1].values[count-2]-D[col1].values[count-1])<tol:\n",
    "                L[index]+=1\n",
    "                L[index+1]-=1\n",
    "            else:\n",
    "                c.append(D[col1].values[count-2])\n",
    "                index+=1\n",
    "                tl.append(D[col1].values[count-2]-D[col1].values[count-1])\n",
    "        Q.append(g[index])\n",
    "    temp=pd.Series(Q)\n",
    "    D['AssignmentLetter']=temp.values\n",
    "    return(D,tl,c)"
   ]
  },
  {
   "cell_type": "markdown",
   "metadata": {},
   "source": [
    "The function calcGrade first orders D by the column 'col1.' It then clusters the first L[0] many rows of D by assigning a value g[0] to the new column 'AssignmentLetter.' Then calcGrade checks the next highest value in D, namely D[col1].values[count-2], to see whether or not that value should be in the first cluster. If (D[col1].values[count-2]-D[col1].values[count-1])<tol then D[col1].values[count-2] should be in the first cluster. We increase L[0] by 1 and decrease L[1] by 1 to illistrate that the sizes of the clusters have changed. This process continues untill (D[col1].values[count-2]-D[col1].values[count-1])<tol fails. At which, we move to the next cluster and repeat the same steps again."
   ]
  },
  {
   "cell_type": "markdown",
   "metadata": {},
   "source": [
    "For this particula dataset, we cluster values in 'RawAssignmentScore' into 8 clusters as seen in the list g below. The list lf is a reference for the number of students to be in a particular cluster."
   ]
  },
  {
   "cell_type": "code",
   "execution_count": 61,
   "metadata": {
    "collapsed": true
   },
   "outputs": [],
   "source": [
    "g=['F','D','D+','C','C+','B','B+','A']\n",
    "g=g[::-1]\n",
    "lf=[4,5,6,6,5,4,3,1]"
   ]
  },
  {
   "cell_type": "code",
   "execution_count": 62,
   "metadata": {},
   "outputs": [
    {
     "name": "stdout",
     "output_type": "stream",
     "text": [
      "B     9\n",
      "C     7\n",
      "A     5\n",
      "D+    4\n",
      "B+    3\n",
      "D     3\n",
      "C+    2\n",
      "F     1\n",
      "Name: AssignmentLetter, dtype: int64\n",
      "[30.0, 6.0, 5.0, 40.0, 41.0, 8.0, 49.0]\n",
      "[740.0, 707.0, 658.0, 648.0, 508.0, 338.0, 229.0]\n"
     ]
    }
   ],
   "source": [
    "df1,toleranceList1,cutOffs1=calcGrade(df,lf,'RawAssignmentScore',g,4)\n",
    "print(df1['AssignmentLetter'].value_counts())\n",
    "print(toleranceList1)\n",
    "print(cutOffs1)"
   ]
  },
  {
   "cell_type": "markdown",
   "metadata": {},
   "source": [
    "Let's consider ordering toleranceList1"
   ]
  },
  {
   "cell_type": "code",
   "execution_count": 63,
   "metadata": {},
   "outputs": [
    {
     "name": "stdout",
     "output_type": "stream",
     "text": [
      "[5.0, 6.0, 8.0, 30.0, 40.0, 41.0, 49.0]\n"
     ]
    }
   ],
   "source": [
    "toleranceList1=sorted(toleranceList1)\n",
    "print(toleranceList1)"
   ]
  },
  {
   "cell_type": "markdown",
   "metadata": {},
   "source": [
    "We see the smallest value is toleranceList1 is 5. This tells us that if we change the tolerance tol from 4 to a number larger than 5, we will change size of clusters. We compute calcGrade with tol=6 and tol=20."
   ]
  },
  {
   "cell_type": "code",
   "execution_count": 74,
   "metadata": {},
   "outputs": [
    {
     "name": "stdout",
     "output_type": "stream",
     "text": [
      "B     11\n",
      "C      6\n",
      "A      5\n",
      "D+     4\n",
      "B+     3\n",
      "D      3\n",
      "F      1\n",
      "C+     1\n",
      "Name: AssignmentLetter, dtype: int64\n",
      "[30.0, 6.0, 40.0, 26.0, 41.0, 8.0, 49.0]\n",
      "[740.0, 707.0, 648.0, 608.0, 508.0, 338.0, 229.0]\n"
     ]
    }
   ],
   "source": [
    "lf=[4,5,6,6,5,4,3,1]\n",
    "df2,toleranceList2,cutOffs2=calcGrade(df,lf,'RawAssignmentScore',g,6)\n",
    "print(df2['AssignmentLetter'].value_counts())\n",
    "print(toleranceList2)\n",
    "print(cutOffs2)"
   ]
  },
  {
   "cell_type": "code",
   "execution_count": 75,
   "metadata": {},
   "outputs": [
    {
     "name": "stdout",
     "output_type": "stream",
     "text": [
      "B+    14\n",
      "D+     5\n",
      "C+     5\n",
      "A      5\n",
      "F      2\n",
      "C      1\n",
      "B      1\n",
      "D      1\n",
      "Name: AssignmentLetter, dtype: int64\n",
      "[30.0, 40.0, 26.0, 38.0, 41.0, 25.0, 76.0]\n",
      "[740.0, 648.0, 608.0, 546.0, 508.0, 330.0, 305.0]\n"
     ]
    }
   ],
   "source": [
    "lf=[4,5,6,6,5,4,3,1]\n",
    "df3,toleranceList3,cutOffs3=calcGrade(df,lf,'RawAssignmentScore',g,20)\n",
    "print(df3['AssignmentLetter'].value_counts())\n",
    "print(toleranceList3)\n",
    "print(cutOffs3)"
   ]
  },
  {
   "cell_type": "code",
   "execution_count": 76,
   "metadata": {},
   "outputs": [
    {
     "data": {
      "text/plain": [
       "[740.0, 648.0, 608.0, 546.0, 508.0, 330.0, 305.0]"
      ]
     },
     "execution_count": 76,
     "metadata": {},
     "output_type": "execute_result"
    },
    {
     "data": {
      "image/png": "[encoded data removed]",
      "text/plain": [
       "<matplotlib.figure.Figure at 0x118d560f0>"
      ]
     },
     "metadata": {},
     "output_type": "display_data"
    }
   ],
   "source": [
    "df=df3\n",
    "cutOffs=cutOffs3\n",
    "df['AssignmentLetter'].value_counts().plot(title='Grades', kind='bar')\n",
    "cutOffs"
   ]
  },
  {
   "cell_type": "markdown",
   "metadata": {},
   "source": [
    "By reading the cutOffs we have the range of scores for each cluster. \n",
    "\n",
    "A: [740,infinity) \n",
    "\n",
    "B+: [648,740) \n",
    "\n",
    "B: [608,648) \n",
    "\n",
    "C+: [546,608) \n",
    "\n",
    "C: [508,546) \n",
    "\n",
    "D+: [330,508) \n",
    "\n",
    "D: [305,330) \n",
    "\n",
    "F: [0,305)"
   ]
  },
  {
   "cell_type": "markdown",
   "metadata": {},
   "source": [
    "From the earlier observation with the histogram we guessed the first two clusters to be [750,infinity) and [650,750). Our data reflects these estimates. "
   ]
  },
  {
   "cell_type": "code",
   "execution_count": null,
   "metadata": {
    "collapsed": true
   },
   "outputs": [],
   "source": []
  }
 ],
 "metadata": {
  "kernelspec": {
   "display_name": "Python 3",
   "language": "python",
   "name": "python3"
  },
  "language_info": {
   "codemirror_mode": {
    "name": "ipython",
    "version": 3
   },
   "file_extension": ".py",
   "mimetype": "text/x-python",
   "name": "python",
   "nbconvert_exporter": "python",
   "pygments_lexer": "ipython3",
   "version": "3.6.3"
  }
 },
 "nbformat": 4,
 "nbformat_minor": 2
}
